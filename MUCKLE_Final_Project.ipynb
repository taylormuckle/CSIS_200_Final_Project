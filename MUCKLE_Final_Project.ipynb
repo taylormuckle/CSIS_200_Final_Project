{
 "cells": [
  {
   "cell_type": "markdown",
   "metadata": {},
   "source": [
    "# Final project\n",
    "\n",
    "**Can you escape a velociraptor?**\n",
    "\n",
    "Your goal is to figure out whether or not a velociraptor will catch you or if you can outrun it!\n",
    "\n",
    "## Problem 1. Position vs. time\n",
    "\n",
    "Suppose a velociraptor can run 18 m/s. And suppose you can run at 3 m/s, but you have a 30 meter head start. Assume that you and the 'raptor accelerate so quickly that you can ignore acceleration. \n",
    "\n",
    "Make a plot of the position vs. time for both you and the 'raptor (plot both on the same figure). Clearly label all axes and give the plot a legend. Plot over a suitable time frame. Save the figure as a .png file. \n",
    "\n",
    "*This plot will be included in your write-up*."
   ]
  },
  {
   "cell_type": "code",
   "execution_count": 72,
   "metadata": {
    "collapsed": false
   },
   "outputs": [
    {
     "data": {
      "text/plain": [
       "<matplotlib.legend.Legend at 0x7f32f7604f90>"
      ]
     },
     "execution_count": 72,
     "metadata": {},
     "output_type": "execute_result"
    },
    {
     "data": {
      "image/png": "[encoded data removed]",
      "text/plain": [
       "<matplotlib.figure.Figure at 0x7f32f6991090>"
      ]
     },
     "metadata": {},
     "output_type": "display_data"
    }
   ],
   "source": [
    "# Your code here. \n",
    "#x = xi + vi*t + float(1)/float(2)*a*(t**2)\n",
    "#ignore acceleration\n",
    "#x = xi + vi*t\n",
    "\n",
    "\n",
    "import matplotlib.pylab as plt\n",
    "%matplotlib inline\n",
    "import numpy as np\n",
    "\n",
    "plt.xlabel('Time (seconds)',fontsize=18)\n",
    "plt.ylabel('Position (meters)',fontsize=18)\n",
    "\n",
    "plt.title(\"Position/Time of 'Raptors vs People\")\n",
    "\n",
    "plt.xlim(0,3)\n",
    "plt.ylim(0,60)\n",
    "\n",
    "tp = np.linspace(0,3,1000)\n",
    "yp = 30 + 3*tp \n",
    "\n",
    "tv = np.linspace(0,3,1000)\n",
    "yv = 0 + 18*tv \n",
    "\n",
    "plt.plot(tp,yp,'r-',linewidth=2,label='predicted position of person')\n",
    "plt.plot(tv,yv,'b-',linewidth=2,label='predicted position of raptor')\n",
    "\n",
    "plt.legend(loc='upper right')\n",
    "\n",
    "#took plt.plot lines from sin cos graphing lecture."
   ]
  },
  {
   "cell_type": "markdown",
   "metadata": {},
   "source": [
    "## Problem 2. When does the 'raptor catch up to you?\n",
    "\n",
    "Use your code to figure out when the raptor catches up to you. Both how much time has passed and how far *you* have run.  \n",
    "\n",
    "Do not just get this information off the graph. Use your Python code to figure this out! Getting the information just by looking at the plot will result in a 0 for this question. You can use an analytic approach (algebra) to check your answer, but that is not the approach I want you to use. Depending on how you write your code, you might not get an *exact* answer, but you should find a way to get pretty close to the algebraic solution. "
   ]
  },
  {
   "cell_type": "code",
   "execution_count": 73,
   "metadata": {
    "collapsed": false
   },
   "outputs": [
    {
     "name": "stdout",
     "output_type": "stream",
     "text": [
      "2.0 seconds is how much time you have until the velociraptor catches up with you.\n",
      "The person has traveled 6.0 meters in this time.\n"
     ]
    }
   ],
   "source": [
    "# Your code here.\n",
    "#Algebra...\n",
    "#2 seconds.\n",
    "#xf=xi*vit\n",
    "#person... xf=30+3t\n",
    "#raptor... xf=0+18t\n",
    "#30+3t=18t\n",
    "#15t=30\n",
    "#t=2\n",
    "#yp = 30 + 3*t \n",
    "#yv = 0 + 18*t \n",
    "#set equal and solve for t\n",
    "#for distance, plug time(2) into the yp... formula -> yp = 30 + 3(2) \n",
    "#yp = 36 \n",
    "#therefore the person ran 6 meters (they had a 30 meter headstart).\n",
    "\n",
    "\n",
    "for i in range(len(yv)):\n",
    "    person = yp[i]\n",
    "    velociraptor = yv[i]\n",
    "    time = tp[i]\n",
    "    distance_run = person-yp[0]\n",
    "    if velociraptor == person:\n",
    "        print \"%s seconds is how much time you have until the velociraptor catches up with you.\" % (time)\n",
    "        print \"The person has traveled %s meters in this time.\" % (distance_run)\n",
    "    #print int(person)\n",
    "    #print int(velociraptor)\n",
    "    #used the above to find the values (as integers) when the person and velociraptor start to be 1 meter apart.\n",
    "        \n",
    "#I made a loop for going through my velociraptor and people speed formulas from time 0 to when they caught up.\n",
    "#the goal is to get the formulas to give me the time at which they catch up and how far the person ran in that time.\n",
    "#the loop says when the veociraptor loop equals the person loop, starting at 0, and gives the time 2 seconds, and the distance 6 meters(36-30). "
   ]
  },
  {
   "cell_type": "markdown",
   "metadata": {},
   "source": [
    "## Problem 3. When is it close enough to strike?\n",
    "\n",
    "It turns out the 'raptor will start trying to attack when it is 1 meter away. How much time has passed and how far have you run when it is 1 meter behind you? Use a similar approach as the last problem. \n",
    "\n",
    "***Also make a new copy of the above plot, but label (with a line or arrow or whatever you want) the point at which the raptor is 1 meter behind you.***"
   ]
  },
  {
   "cell_type": "code",
   "execution_count": 74,
   "metadata": {
    "collapsed": false
   },
   "outputs": [
    {
     "name": "stdout",
     "output_type": "stream",
     "text": [
      "attacked at 1.888889, and the person only ran 5.000000 meters.\n"
     ]
    },
    {
     "data": {
      "image/png": "[encoded data removed]",
      "text/plain": [
       "<matplotlib.figure.Figure at 0x7f32f7663890>"
      ]
     },
     "metadata": {},
     "output_type": "display_data"
    }
   ],
   "source": [
    "# Your code here. \n",
    "\n",
    "for i in range(len(yv)):\n",
    "    person = int(yp[i])\n",
    "    velociraptor = (yv[i])\n",
    "    time = tp[i]\n",
    "    distance_run = person-yp[0]\n",
    "    if velociraptor == person-1:\n",
    "        print \"attacked at %f, and the person only ran %f meters.\" % (time,person-30)\n",
    "        #calculated the time and distance when they were one meter apart by subtracting 1 from the distance the person ran. \n",
    "        #person attacked at a time 1.89 when they were 1 meter apart\n",
    "        #and the distance found was 35 but they had a 30 meter head start (35-30).\n",
    "\n",
    "plt.xlabel('Time (seconds)',fontsize=18)\n",
    "plt.ylabel('Position (meters)',fontsize=18)\n",
    "\n",
    "plt.title(\"Position/Time of 'Raptors vs People\")\n",
    "\n",
    "plt.xlim(0,3)\n",
    "plt.ylim(0,60)\n",
    "\n",
    "tp = np.linspace(0,3,1000)\n",
    "yp = 30 + 3*tp \n",
    "\n",
    "tv = np.linspace(0,3,1000)\n",
    "yv = 0 + 18*tv \n",
    "\n",
    "plt.plot(tp,yp,'m-',linewidth=2,label='predicted position of person')\n",
    "plt.plot(tv,yv,'c-',linewidth=2,label='predicted position of raptor')\n",
    "\n",
    "plt.legend(loc='upper left')\n",
    "\n",
    "\n",
    "\n",
    "ann = plt.annotate(\"Attack\",\n",
    "                   xy=(1.888889, 35), xycoords='data',\n",
    "                   xytext=(50, 50), textcoords='offset points',\n",
    "                   arrowprops=dict(arrowstyle=\"->\", shrinkB=5,\n",
    "                                   connectionstyle=\"angle3\"),\n",
    "                   size=15\n",
    "                   )\n",
    "#found arrow notation on http://leejjoon.github.io/Slides-for-2011-Jeju-Python-Workshop/mpl_advanced.html#slide36."
   ]
  },
  {
   "cell_type": "markdown",
   "metadata": {},
   "source": [
    "## Problem 4. Will it bite you?\n",
    "\n",
    "When the 'raptor is 1 meter away, it will try to bite you. If it doesn't bite you, it will try a second and (if necessary) a third time. If it doesn't get you on the third try, it will grow frustrated and stop chasing you. Hurray!\n",
    "\n",
    "Suppose the first time it tries, there is a 20% chance it will bite you. If it misses and it needs to try a second time, there is only a 15% chance, and if it misses *that* time, there is only a 7% chance on the third try. \n",
    "\n",
    "If it bites you once, you're 'raptor food. If it misses all three times, you get away!\n",
    "\n",
    "What is the probability that you will get away?\n"
   ]
  },
  {
   "cell_type": "code",
   "execution_count": 75,
   "metadata": {
    "collapsed": false
   },
   "outputs": [
    {
     "name": "stdout",
     "output_type": "stream",
     "text": [
      "Yay! You made it.\n",
      "Around 67 percent is the percentage that you have to survive the attack.\n"
     ]
    }
   ],
   "source": [
    "# Your code here\n",
    "first_try = np.random.random()\n",
    "\n",
    "second_try = np.random.random()\n",
    "\n",
    "last_try = np.random.random()\n",
    "\n",
    "\n",
    "if first_try<.2:\n",
    "    print \"You died the first time\"\n",
    "    if second_try<.15:\n",
    "        print \"You died on the second strike!\"\n",
    "        if last_try<.07:\n",
    "            print \"You died on the last attack.\"\n",
    "        else:\n",
    "            print \"You made it the third time!\"\n",
    "    else:\n",
    "        print \"You made it the second time!\"\n",
    "else:\n",
    "    print \"Yay! You made it.\"\n",
    "    \n",
    "    \n",
    "    \n",
    "#ran the above 3 groups of 10 times (30 times total) and found an average percentage.\n",
    "print \"Around 67 percent is the percentage that you have to survive the attack.\" "
   ]
  },
  {
   "cell_type": "markdown",
   "metadata": {},
   "source": [
    "# Worked with Shannon, Jada and Andrew."
   ]
  },
  {
   "cell_type": "code",
   "execution_count": null,
   "metadata": {
    "collapsed": true
   },
   "outputs": [],
   "source": []
  },
  {
   "cell_type": "code",
   "execution_count": null,
   "metadata": {
    "collapsed": true
   },
   "outputs": [],
   "source": []
  },
  {
   "cell_type": "code",
   "execution_count": null,
   "metadata": {
    "collapsed": true
   },
   "outputs": [],
   "source": []
  }
 ],
 "metadata": {
  "kernelspec": {
   "display_name": "Python 2",
   "language": "python",
   "name": "python2"
  },
  "language_info": {
   "codemirror_mode": {
    "name": "ipython",
    "version": 2
   },
   "file_extension": ".py",
   "mimetype": "text/x-python",
   "name": "python",
   "nbconvert_exporter": "python",
   "pygments_lexer": "ipython2",
   "version": "2.7.9"
  },
  "name": "MUCKLE_Final_Project.ipynb"
 },
 "nbformat": 4,
 "nbformat_minor": 0
}
